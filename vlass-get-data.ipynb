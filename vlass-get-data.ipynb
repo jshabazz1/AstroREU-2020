{
 "cells": [
  {
   "cell_type": "code",
   "execution_count": 1,
   "metadata": {},
   "outputs": [],
   "source": [
    "import os\n",
    "import matplotlib.pyplot as plt\n",
    "import requests\n",
    "import astropy.units as u\n",
    "import astropy.coordinates as coord\n",
    "import numpy as np\n",
    "from astropy.io import fits\n",
    "import astropy.time\n",
    "from astropy.utils.data import download_file\n",
    "import pandas as pd\n",
    "import get_vlass\n",
    "\n",
    "%matplotlib inline"
   ]
  },
  {
   "cell_type": "code",
   "execution_count": 2,
   "metadata": {},
   "outputs": [
    {
     "name": "stdout",
     "output_type": "stream",
     "text": [
      "Found a file VLASS1.1.ql.T04t33.J215306-253000.10.2048.v1 offset by 0.3290092492899315 deg\n",
      "File VLASS1.1.ql.T04t33.J215306-253000.10.2048.v1.I.iter1.image.pbcor.tt0.subim.fits already downloaded\n"
     ]
    }
   ],
   "source": [
    "co = coord.SkyCoord('21:54:25.041','-25:21:33.65', unit=(u.hour, u.deg))\n",
    "\n",
    "type(co)\n",
    "url = get_vlass.get_fits(co)"
   ]
  },
  {
   "cell_type": "markdown",
   "metadata": {},
   "source": [
    "fits.getdata(url)\n",
    "fits.info(url)"
   ]
  },
  {
   "cell_type": "code",
   "execution_count": 22,
   "metadata": {},
   "outputs": [
    {
     "data": {
      "text/plain": [
       "array([[[[ 8.87225033e-05,  1.29184904e-04,  2.88069888e-04, ...,\n",
       "           1.66839236e-04,  1.11305599e-04, -6.01479005e-05],\n",
       "         [ 7.47785525e-05,  7.60093099e-05,  1.20579141e-04, ...,\n",
       "           8.02326904e-05,  2.13083724e-04,  1.35211485e-05],\n",
       "         [ 6.82649552e-05,  9.26981302e-05,  1.10161338e-04, ...,\n",
       "           1.34309113e-04,  2.69298413e-04,  1.90564824e-04],\n",
       "         ...,\n",
       "         [ 8.29326746e-05, -3.00758384e-05, -7.35930807e-05, ...,\n",
       "           1.36037794e-04,  2.86076305e-04,  1.60153882e-04],\n",
       "         [ 1.08814884e-05, -1.37208945e-05, -6.35782126e-05, ...,\n",
       "           2.21318824e-05,  1.76691799e-04,  8.92831886e-05],\n",
       "         [ 2.15579901e-04,  7.25649588e-05, -9.69431494e-06, ...,\n",
       "           1.65938414e-04,  2.18850735e-04,  1.40381031e-04]]]],\n",
       "      dtype=float32)"
      ]
     },
     "execution_count": 22,
     "metadata": {},
     "output_type": "execute_result"
    }
   ],
   "source": [
    "hdu = fits.open(url, mode=\"readonly\")\n",
    "hdu[0].data\n"
   ]
  },
  {
   "cell_type": "code",
   "execution_count": 10,
   "metadata": {},
   "outputs": [
    {
     "name": "stdout",
     "output_type": "stream",
     "text": [
      "Found a file VLASS1.1.ql.T10t15.J092600-023000.10.2048.v2 offset by 0.4969169377804662 deg\n",
      "File VLASS1.1.ql.T10t15.J092600-023000.10.2048.v2.I.iter1.image.pbcor.tt0.subim.fits already downloaded\n",
      "Found a file VLASS1.1.ql.T12t17.J104601+063000.10.2048.v1 offset by 0.5758006642656701 deg\n",
      "Found a file VLASS1.1.ql.T12t36.J235415+073000.10.2048.v1 offset by 0.4864891593536252 deg\n",
      "Found a file VLASS1.1.ql.T18t18.J131443+293000.10.2048.v1 offset by 0.4997899328571194 deg\n",
      "Found a file VLASS1.1.ql.T19t21.J162113+323000.10.2048.v1 offset by 0.42926338858877805 deg\n",
      "Found a file VLASS1.1.ql.T20t18.J141944+393000.10.2048.v1 offset by 0.1942501817739829 deg\n",
      "Found a file VLASS1.1.ql.T08t01.J001813-093000.10.2048.v1 offset by 0.20109905610276407 deg\n",
      "Found a file VLASS1.1.ql.T08t01.J001813-093000.10.2048.v1 offset by 0.23955725092305336 deg\n",
      "File VLASS1.1.ql.T08t01.J001813-093000.10.2048.v1.I.iter1.image.pbcor.tt0.subim.fits already downloaded\n",
      "Found a file VLASS1.1.ql.T09t03.J014603-043000.10.2048.v1 offset by 0.4974620297193564 deg\n",
      "Found a file VLASS1.1.ql.T10t01.J000600-033000.10.2048.v1 offset by 0.24670870985196716 deg\n",
      "Found a file VLASS1.1.ql.T10t05.J025400-013000.10.2048.v1 offset by 0.3623776119114183 deg\n",
      "Found a file VLASS1.1.ql.T10t06.J033800-003000.10.2048.v1 offset by 0.5565663408731786 deg\n",
      "Found a file VLASS1.1.ql.T11t04.J023800+003000.10.2048.v1 offset by 0.45270355341711727 deg\n",
      "Found a file VLASS1.1.ql.T11t15.J092200+013000.10.2048.v2 offset by 0.6738715093409473 deg\n",
      "Found a file VLASS1.1.ql.T11t16.J102600+013000.10.2048.v1 offset by 0.4382264751553476 deg\n",
      "Found a file VLASS1.1.ql.T11t04.J021800+013000.10.2048.v1 offset by 0.34390574345739194 deg\n",
      "Found a file VLASS1.1.ql.T11t02.J004200+023000.10.2048.v1 offset by 0.28809790077179315 deg\n",
      "Found a file VLASS1.1.ql.T12t36.J233402+043000.10.2048.v1 offset by 0.4671862347075163 deg\n",
      "Found a file VLASS1.1.ql.T12t36.J233402+043000.10.2048.v1 offset by 0.5442949202931173 deg\n",
      "File VLASS1.1.ql.T12t36.J233402+043000.10.2048.v1.I.iter1.image.pbcor.tt0.subim.fits already downloaded\n",
      "Found a file VLASS1.1.ql.T13t17.J105005+083000.10.2048.v1 offset by 0.39102976639471815 deg\n",
      "Found a file VLASS1.1.ql.T13t35.J224201+083000.10.2048.v1 offset by 0.4324998290947793 deg\n",
      "Found a file VLASS1.1.ql.T13t18.J113813+093000.10.2048.v1 offset by 0.5332007340129258 deg\n",
      "Found a file VLASS1.1.ql.T13t18.J114220+103000.10.2048.v1 offset by 0.22483324293588633 deg\n",
      "Found a file VLASS1.1.ql.T14t18.J114634+123000.10.2048.v1 offset by 0.5145676723770897 deg\n",
      "Found a file VLASS1.1.ql.T16t17.J120623+203000.10.2048.v1 offset by 0.3287493544883178 deg\n",
      "Found a file VLASS1.1.ql.T16t17.J120623+203000.10.2048.v1 offset by 0.47902667334168625 deg\n",
      "File VLASS1.1.ql.T16t17.J120623+203000.10.2048.v1.I.iter1.image.pbcor.tt0.subim.fits already downloaded\n",
      "Found a file VLASS1.1.ql.T16t17.J120207+203000.10.2048.v1 offset by 0.19217631202285113 deg\n",
      "Found a file VLASS1.1.ql.T16t17.J121505+223000.10.2048.v1 offset by 0.3629653560116284 deg\n",
      "Found a file VLASS1.1.ql.T17t21.J154135+243000.10.2048.v1 offset by 0.6582080800687852 deg\n",
      "Found a file VLASS1.1.ql.T17t18.J125607+263000.10.2048.v1 offset by 0.4802409891630658 deg\n",
      "Found a file VLASS1.1.ql.T17t17.J123749+263000.10.2048.v1 offset by 0.4771781796662687 deg\n",
      "Found a file VLASS1.1.ql.T17t18.J132716+263000.10.2048.v1 offset by 0.12966364851762227 deg\n",
      "Found a file VLASS1.1.ql.T17t18.J131840+273000.10.2048.v1 offset by 0.3027473396070581 deg\n",
      "Found a file VLASS1.1.ql.T18t18.J131426+283000.10.2048.v1 offset by 0.44146274230129423 deg\n",
      "Found a file VLASS1.1.ql.T18t19.J140438+303000.10.2048.v1 offset by 0.3224396451686565 deg\n",
      "Found a file VLASS1.1.ql.T18t18.J132415+303000.10.2048.v1 offset by 0.43586064847412886 deg\n",
      "Found a file VLASS1.1.ql.T18t18.J131959+313000.10.2048.v1 offset by 0.8053201419912369 deg\n",
      "Found a file VLASS1.1.ql.T18t17.J120659+313000.10.2048.v1 offset by 0.469794489577546 deg\n",
      "Found a file VLASS1.1.ql.T18t17.J123939+313000.10.2048.v1 offset by 0.5164989667051215 deg\n",
      "Found a file VLASS1.1.ql.T19t16.J121147+323000.10.2048.v1 offset by 0.30472783707930756 deg\n",
      "Found a file VLASS1.1.ql.T19t17.J125024+343000.10.2048.v1 offset by 0.35735686018506174 deg\n",
      "Found a file VLASS1.1.ql.T19t17.J133342+343000.10.2048.v1 offset by 0.24146536106254535 deg\n",
      "Found a file VLASS1.1.ql.T20t18.J133832+383000.10.2048.v1 offset by 0.5132063767266188 deg\n",
      "Found a file VLASS1.1.ql.T24t11.J104213+523000.10.2048.v1 offset by 0.41767889391476 deg\n",
      "Found a file VLASS1.1.ql.T08t01.J002216-093000.10.2048.v1 offset by 0.10243484483997302 deg\n",
      "Found a file VLASS1.1.ql.T10t04.J020159-003000.10.2048.v1 offset by 0.41184717817105704 deg\n",
      "Found a file VLASS1.1.ql.T11t05.J025400+013000.10.2048.v1 offset by 0.6361026405840909 deg\n",
      "Found a file VLASS1.1.ql.T16t17.J120623+203000.10.2048.v1 offset by 0.14064961235500575 deg\n",
      "File VLASS1.1.ql.T16t17.J120623+203000.10.2048.v1.I.iter1.image.pbcor.tt0.subim.fits already downloaded\n",
      "Found a file VLASS1.1.ql.T16t22.J162855+213000.10.2048.v1 offset by 0.32350354655589336 deg\n",
      "Found a file VLASS1.1.ql.T16t21.J153656+233000.10.2048.v1 offset by 0.4681653015239699 deg\n",
      "Found a file VLASS1.1.ql.T17t18.J132716+263000.10.2048.v1 offset by 0.12966364851762227 deg\n",
      "File VLASS1.1.ql.T17t18.J132716+263000.10.2048.v1.I.iter1.image.pbcor.tt0.subim.fits already downloaded\n",
      "Found a file VLASS1.1.ql.T19t17.J125023+333000.10.2048.v1 offset by 0.3443534052164351 deg\n",
      "Found a file VLASS1.1.ql.T19t19.J143612+353000.10.2048.v1 offset by 0.4072535095113051 deg\n",
      "Found a file VLASS1.1.ql.T20t18.J135345+383000.10.2048.v1 offset by 0.49560429787825877 deg\n",
      "Found a file VLASS1.1.ql.T24t11.J104629+563000.10.2048.v1 offset by 0.2864774447023741 deg\n"
     ]
    }
   ],
   "source": [
    "file = open('short-coords.txt','r')\n",
    "#print(file.readlines(1))\n",
    "\n",
    "coords= []\n",
    "alldict = dict()\n",
    "\n",
    "for line in file:\n",
    "  \n",
    "  #Let's split the line into an array called \"fields\" using the \";\" as a separator:\n",
    "    fields = line.split(\" \")\n",
    "  \n",
    "  #and let's extract the data:\n",
    "#   coords.extend('\\\"'+fields[0]+':'+fields[1]+':'+fields[2]+'\\\", \\\"'+fields[3]+':'+fields[4]+':'+fields[5]+'\\\"')\n",
    "    RA = fields[0]+':'+fields[1]+':'+fields[2]\n",
    "    Dec = fields[3]+':'+fields[4]+':'+fields[5]\n",
    "    \n",
    "    loc= coord.SkyCoord(RA, Dec, unit=(u.hour, u.deg))\n",
    "#    cod = coord.SkyCoord(coord, unit=(u.hour, u.deg))\n",
    "    tilename = get_vlass.get_tilename(loc)\n",
    "\n",
    "    try:\n",
    "        get_vlass.get_fits(loc)\n",
    "        alldict[tilename] = {RA,Dec}\n",
    "    except FileNotFoundError as e:\n",
    "        print('File not found: ' + RA + ' ' + Dec)\n",
    "\n"
   ]
  },
  {
   "cell_type": "code",
   "execution_count": 9,
   "metadata": {},
   "outputs": [
    {
     "name": "stdout",
     "output_type": "stream",
     "text": [
      "T10t15\n"
     ]
    }
   ],
   "source": [
    "print(tilename)"
   ]
  },
  {
   "cell_type": "code",
   "execution_count": null,
   "metadata": {},
   "outputs": [],
   "source": []
  }
 ],
 "metadata": {
  "kernelspec": {
   "display_name": "Python 3",
   "language": "python",
   "name": "python3"
  },
  "language_info": {
   "codemirror_mode": {
    "name": "ipython",
    "version": 3
   },
   "file_extension": ".py",
   "mimetype": "text/x-python",
   "name": "python",
   "nbconvert_exporter": "python",
   "pygments_lexer": "ipython3",
   "version": "3.7.6"
  }
 },
 "nbformat": 4,
 "nbformat_minor": 2
}
